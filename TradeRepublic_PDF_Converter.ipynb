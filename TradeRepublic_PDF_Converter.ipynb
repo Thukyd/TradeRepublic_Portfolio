{
  "nbformat": 4,
  "nbformat_minor": 0,
  "metadata": {
    "colab": {
      "name": "TradeRepublic_PDF_Converter.ipynb",
      "provenance": [],
      "collapsed_sections": [],
      "authorship_tag": "ABX9TyPLC2Q7yEnGb2+3ZdTPyUJ8",
      "include_colab_link": true
    },
    "kernelspec": {
      "name": "python3",
      "display_name": "Python 3"
    }
  },
  "cells": [
    {
      "cell_type": "markdown",
      "metadata": {
        "id": "view-in-github",
        "colab_type": "text"
      },
      "source": [
        "<a href=\"https://colab.research.google.com/github/Thukyd/TradeRepublic_Portfolio/blob/master/TradeRepublic_PDF_Converter.ipynb\" target=\"_parent\"><img src=\"https://colab.research.google.com/assets/colab-badge.svg\" alt=\"Open In Colab\"/></a>"
      ]
    },
    {
      "cell_type": "markdown",
      "metadata": {
        "id": "XooSrEXI9Vii",
        "colab_type": "text"
      },
      "source": [
        "# **0.3 | TradeRepublic Portfolio** \n",
        "# *PDF Converter for Portfolio Performance & Investing.com*\n",
        "# a) Description\n",
        "This tool should help to keep the overview of the transactions within TradeRepublic. In TR there is the possibility to export all orders as PDF. For testing purposes the import and export is currently only possible with G-Drive. Alternatives are on the todo list. \n",
        "\n",
        "\n",
        "## Output A: Master Sheet\n",
        "The master sheet lists all previous transactions from the PDFs. \n",
        "\n",
        "## Output B: Delta Sheet (dated)\n",
        "The delta sheet contains all new transactions that have been added since the script was last executed. These are intended to be imported into Portfolio Performance and Investing.com. \n",
        "\n",
        "## Scope \n",
        "*   optimized for Google Colab (https://colab.research.google.com/)\n",
        "*   export optimized for \"Portfolio Performance\" (https://www.portfolio-performance.info/) and \"Investing.com\" (https://de.investing.com/)\n",
        "*   For further information about the import at \"Investing.com\", see: https://www.investing-support.com/hc/en-us/articles/360000265217-Import-Portfolio-Holdings \n",
        "\n",
        "\n",
        "# b) Configuration\n",
        "## G-Drive Path\n",
        "*   TradeRepublic statements will be imported via GoogleDrive. All PDF files shoule be in a single folder. You need to configure the path to your G-Drive before usage (see: \"Configurations - to be defined by user\")\n",
        "\n",
        "## Finnhub Token\n",
        "* If you want to add a ticker symbol to the sheets you need to have a Finnhub API token. You can register @ https://finnhub.io/ and have to paste your API key in the configs. \n",
        "* You can ignore this, if you don't want to register for a key. \n",
        "\n",
        "\n",
        "# c) Options to customize\n",
        "- for different data sources, see: https://colab.research.google.com/notebooks/io.ipynb\n",
        "- in order to create different data structures, take a look at \"Examples for extracted fields\". \n",
        "\n",
        "# d) Further Information\n",
        "## Handling of costs statements\n",
        "*   \"Kosten des Wertpapierkaufs/verkaufs\" are be considered.\n",
        "*   \"Kosten während der Haltedauer (pro Jahr)\" are not extracted and therefore do not appear the sheets. \n",
        "\n",
        "## Deposits & Withdrawls\n",
        "* deposits and withdrawals to the depot are not recorded in PDF format. Therefore they are not taken into account and must be entered by hand if necessary.\n",
        "\n",
        "## \"Order\" in Trade Republic documents\n",
        "* each TradeRepublic document has got a \"order\" number. This is extracted and stored in the field \"Notiz\". It serves to prevent duplicate entries.  \n",
        "\n",
        "# e) Backlog\n",
        "## Open\n",
        "* create sheets for portfolio performance in .csv format\n",
        "* offer alternatives to G-Drive import/export\n",
        "* Investing.com => Import change \"Kauf\" and \"Verkauf\" into \"Kaufen\" and \"Verkaufen\"\n",
        "\n",
        "## To be fixed\n",
        "- define \"add to delta\" by order number - not by row alone\n",
        "- limit reading operations for google sheets https://github.com/burnash/gspread/issues/583\n",
        "- examples\n",
        "\n",
        "# f) Changelog \n",
        "## 0.1\n",
        "* extract G-Drive folder of TradeRepublic PDFs\n",
        "* create data structure (for Portfolio Performance or other purposes)\n",
        "* generate master sheet of all transactions\n",
        "* generate delta sheet for new transactions (base for TradeRepublic import)\n",
        "\n",
        "## 0.2\n",
        "- fixed | sort extracted transactions by date\n",
        "- fixed | double entries of table lables in delta sheet\n",
        "\n",
        "## 0.3\n",
        "- add ticker symbol via finnhub api (requires your own api key)\n",
        "- fixed | calculate purchase price\n",
        "- add values to sheet (\"Kaufkurs\", \"Gebühren\")\n",
        "- data structure for Investing.com import\n"
      ]
    },
    {
      "cell_type": "markdown",
      "metadata": {
        "id": "NqcSJzlUiTEn",
        "colab_type": "text"
      },
      "source": [
        "# Configurations - to be defined by user"
      ]
    },
    {
      "cell_type": "code",
      "metadata": {
        "id": "MtKU_ZXzVvpQ",
        "colab_type": "code",
        "colab": {}
      },
      "source": [
        "# GDRIVE\n",
        "# path to gdrive folder with your TradeRepublic pdfs\n",
        "path_gdrive = \"/content/drive/My Drive/YOUR_FOLDER/\"\n",
        "\n",
        "# FINNHUB - Ticker search (optional) \n",
        "  # request is used to get receive the ticker \n",
        "  # in order to use this, you need to register @ https://finnhub.io/ - the free version is sufficient. \n",
        "  # fill in your api token here: \n",
        "finnhub_token = \"YOUR_FINNHUB_API_KEY\""
      ],
      "execution_count": null,
      "outputs": []
    },
    {
      "cell_type": "markdown",
      "metadata": {
        "id": "1jbZQl1JiO5P",
        "colab_type": "text"
      },
      "source": [
        "# Imports"
      ]
    },
    {
      "cell_type": "code",
      "metadata": {
        "id": "-sYXaNn_ZPAO",
        "colab_type": "code",
        "colab": {
          "base_uri": "https://localhost:8080/",
          "height": 34
        },
        "outputId": "78ce8049-6536-4274-9d65-25f8350a5ca0"
      },
      "source": [
        "# PyPDF2 for PDF extraction\n",
        "!pip install PyPDF2\n",
        "import PyPDF2\n",
        "# Regex for text processing\n",
        "import re\n",
        "# requirement for pdf-folder extraction\n",
        "import glob\n",
        "import os\n",
        "# requirement for get_date_today(), convert_str_to_date()\n",
        "from datetime import date, datetime\n",
        "# optional - used for finhub ticker search\n",
        "import requests"
      ],
      "execution_count": null,
      "outputs": [
        {
          "output_type": "stream",
          "text": [
            "Requirement already satisfied: PyPDF2 in /usr/local/lib/python3.6/dist-packages (1.26.0)\n"
          ],
          "name": "stdout"
        }
      ]
    },
    {
      "cell_type": "markdown",
      "metadata": {
        "id": "V5qKsXskMbAS",
        "colab_type": "text"
      },
      "source": [
        "# Extraction & helper functions"
      ]
    },
    {
      "cell_type": "code",
      "metadata": {
        "id": "ImLd5JT9kdbP",
        "colab_type": "code",
        "colab": {}
      },
      "source": [
        "def get_date_today ():\n",
        "  today = date.today()\n",
        "  return today.strftime(\"%Y-%m-%d\")"
      ],
      "execution_count": null,
      "outputs": []
    },
    {
      "cell_type": "code",
      "metadata": {
        "id": "bFxitfJdJYAs",
        "colab_type": "code",
        "colab": {}
      },
      "source": [
        "def convert_to_float(input):\n",
        "  decimal_point = input.replace(\",\", \".\") # input: 20.000,00 ; output: 20.000.00\n",
        "  result = decimal_point.replace(\".\", \"\", decimal_point.count(\".\") -1) # input: 20.000.00 ; output: 20000.00\n",
        "  return float(result)"
      ],
      "execution_count": null,
      "outputs": []
    },
    {
      "cell_type": "code",
      "metadata": {
        "id": "ORB5aAhO8Rd5",
        "colab_type": "code",
        "colab": {}
      },
      "source": [
        "def convert_str_to_date(input_string):\n",
        "  output = datetime.strptime(input_string, \"%d.%m.%Y\").date()\n",
        "  return output"
      ],
      "execution_count": null,
      "outputs": []
    },
    {
      "cell_type": "code",
      "metadata": {
        "id": "3MlwKJQT-w3R",
        "colab_type": "code",
        "colab": {}
      },
      "source": [
        "def convert_date_to_str(input_date):\n",
        "  output = input_date.strftime(\"%d.%m.%Y\")\n",
        "  return output"
      ],
      "execution_count": null,
      "outputs": []
    },
    {
      "cell_type": "code",
      "metadata": {
        "id": "KbEZWsuCiCFo",
        "colab_type": "code",
        "colab": {}
      },
      "source": [
        "def get_ticker(isin): # OPTIONAL - requires Finnhub API token\n",
        "  query = finnhub_token + \"&isin=\" + isin\n",
        "  try:\n",
        "    r = requests.get(\"https://finnhub.io/api/v1/stock/profile2?token=\" + query)\n",
        "    finn_response = r.json()\n",
        "    return finn_response[\"ticker\"]\n",
        "  except: # if the ticker wasn't found or the user didn't specify the api key\n",
        "    return"
      ],
      "execution_count": null,
      "outputs": []
    },
    {
      "cell_type": "code",
      "metadata": {
        "id": "oAQ8TeRxMSx3",
        "colab_type": "code",
        "colab": {}
      },
      "source": [
        "def preprocess_letter (full_extraction):\n",
        "  header = \"WERTPAPIERGESCHÄFTWERTPAPIERORDER\"   # relevant pdf\n",
        "  header, core = full_extraction.split(header)\n",
        "  return header, core"
      ],
      "execution_count": null,
      "outputs": []
    },
    {
      "cell_type": "code",
      "metadata": {
        "id": "eewBt6FFVBYr",
        "colab_type": "code",
        "colab": {}
      },
      "source": [
        "def extract_transaction_date (raw_text):\n",
        "  pattern = \"DATUM\\d{2}.\\d{2}.\\d{4}\"\n",
        "  transaction_date = re.findall(pattern, raw_text)\n",
        "  date = re.split(\"DATUM\", transaction_date[0])\n",
        "  return date[1]"
      ],
      "execution_count": null,
      "outputs": []
    },
    {
      "cell_type": "code",
      "metadata": {
        "id": "yJHiybD1ZcDf",
        "colab_type": "code",
        "colab": {}
      },
      "source": [
        "def extract_order_id (raw_text):\n",
        "  pattern = \"(?<=ORDER)(.*?)(?=DEPOT)\"\n",
        "  id = re.findall(pattern, raw_text)\n",
        "  return id[0]"
      ],
      "execution_count": null,
      "outputs": []
    },
    {
      "cell_type": "code",
      "metadata": {
        "id": "NVa8IpcGNj4s",
        "colab_type": "code",
        "colab": {}
      },
      "source": [
        "def extract_isin(raw_text):\n",
        "  # Search for ISIN of Stock\n",
        "  isin_pattern = \"(?<=ISIN: )(BE|BM|FR|BG|VE|DK|HR|DE|JP|HU|HK|JO|BR|XS|FI|GR|IS|RU|LB|PT|NO|TW|UA|TR|LK|LV|LU|TH|NL|PK|PH|RO|EG|PL|AA|CH|CN|CL|EE|CA|IR|IT|ZA|CZ|CY|AR|AU|AT|IN|CS|CR|IE|ID|ES|PE|TN|PA|SG|IL|US|MX|SK|KR|SI|KW|MY|MO|SE|GB|GG|KY|JE|VG|NG|SA|MU)([0-9A-Z]{9})([0-9])\"\n",
        "  matches = re.findall(isin_pattern, text)\n",
        "  item = \"\".join(matches[0])\n",
        "  return item"
      ],
      "execution_count": null,
      "outputs": []
    },
    {
      "cell_type": "code",
      "metadata": {
        "id": "TUKkeEffNLF4",
        "colab_type": "code",
        "colab": {}
      },
      "source": [
        "def extract_name(raw_text):\n",
        "  pattern = \"(?<=ANZAHLWERTAUSFÜHRUNGSPLATZ)(.*?)(?=ISIN)\"\n",
        "  name = re.findall(pattern, raw_text)\n",
        "  return name[0]"
      ],
      "execution_count": null,
      "outputs": []
    },
    {
      "cell_type": "code",
      "metadata": {
        "id": "p7mGV3qvP4du",
        "colab_type": "code",
        "colab": {}
      },
      "source": [
        "def extract_order(raw_text):\n",
        "  ISIN = extract_isin(raw_text)\n",
        "  pattern = \"(?<=\"+ ISIN +\")(.*?)(?=Lang und Schwarz Exchange)\"\n",
        "  order = re.findall(pattern, raw_text)\n",
        "  matched = ''.join(order)\n",
        "  matched = matched.split(\" \")\n",
        "  transaction_type = matched[0]\n",
        "  order_count, total_value = matched[2].split(\"Stk.\") \n",
        "  return [transaction_type, order_count, total_value]"
      ],
      "execution_count": null,
      "outputs": []
    },
    {
      "cell_type": "code",
      "metadata": {
        "id": "rVT9xsoipl6F",
        "colab_type": "code",
        "colab": {}
      },
      "source": [
        "# investing.com needs \"Buy\" & \"Sell\" as input instead of \"Kauf\" & \"Verkauf\"\n",
        "def investing_transaction_type(input):\n",
        "  if input == \"Kauf\":\n",
        "    input = \"Buy\"\n",
        "  if input == \"Verkauf\":\n",
        "    input = \"Sell\"\n",
        "  return input"
      ],
      "execution_count": null,
      "outputs": []
    },
    {
      "cell_type": "code",
      "metadata": {
        "id": "naqEqeJGQDdH",
        "colab_type": "code",
        "colab": {}
      },
      "source": [
        "# does not include running costs\n",
        "# takes first appearence of costs in the pdf\n",
        "  # buy operations => consists of buying costs, running costs & selling costs | only buying costs considered\n",
        "  # sell operation => consits of selling costs | selling costs considered\n",
        "def extract_order_costs(raw_text):\n",
        "  transaction_type = extract_order(raw_text)[0]\n",
        "  pattern = \"(?<=SUMME)(.*?)(?= )\"\n",
        "  costs = re.findall(pattern, raw_text)\n",
        "  return costs[0]"
      ],
      "execution_count": null,
      "outputs": []
    },
    {
      "cell_type": "code",
      "metadata": {
        "id": "XMEW8XtkIU-a",
        "colab_type": "code",
        "colab": {}
      },
      "source": [
        "# In TradeRepublic statements all total values for buy & sell are in positive numbers.\n",
        "# For the conversion to Portfolio Performance (PP) this value has got to take the type of transaction in account.\n",
        "# It needs to have a sign. Negative numbers for \"buy\" and positive numbers for \"sell\".\n",
        "def add_sign_to_order_value(transaction_type, total_value):\n",
        "  if transaction_type == \"Kaufen\":\n",
        "    return \"-\" + total_value\n",
        "  else: \n",
        "    return total_value"
      ],
      "execution_count": null,
      "outputs": []
    },
    {
      "cell_type": "code",
      "metadata": {
        "id": "vUfPNNzSBISJ",
        "colab_type": "code",
        "colab": {}
      },
      "source": [
        "def calculate_stock_price(count, total_price):\n",
        "  # transform string to float\n",
        "  float_price = convert_to_float(total_price)\n",
        "  float_count = float(count)\n",
        "  # calculate price of single stock\n",
        "  calculated = float_price / float_count\n",
        "  # convert calculated float into string again\n",
        "  german_calculated = convert_flot_to_german_decimal(calculated)\n",
        "  return german_calculated"
      ],
      "execution_count": null,
      "outputs": []
    },
    {
      "cell_type": "code",
      "metadata": {
        "id": "H-wBGLD1R8vm",
        "colab_type": "code",
        "colab": {}
      },
      "source": [
        "def convert_flot_to_german_decimal(number):\n",
        "  # build format string\n",
        "  format_str = \"{{:,.{}f}}\".format(2)\n",
        "  # make number string\n",
        "  number_str = format_str.format(number)\n",
        "  # replace chars\n",
        "  return number_str.replace(',', 'X').replace('.', ',').replace('X', '.')\n",
        "\n",
        "# https://stackoverflow.com/questions/55616520/is-there-a-simple-and-preferred-way-of-german-number-string-formatting-in-python/55616843"
      ],
      "execution_count": null,
      "outputs": []
    },
    {
      "cell_type": "markdown",
      "metadata": {
        "id": "pzxZxc_bFhFw",
        "colab_type": "text"
      },
      "source": [
        "# Data Structure\n",
        "- optimized for Portfolio Performance\n",
        "- for different data sources, see: https://colab.research.google.com/notebooks/io.ipynb\n"
      ]
    },
    {
      "cell_type": "markdown",
      "metadata": {
        "id": "f_dieNAqfSPD",
        "colab_type": "text"
      },
      "source": [
        "## a) extract pdf files"
      ]
    },
    {
      "cell_type": "code",
      "metadata": {
        "id": "di6FMWSjaVMS",
        "colab_type": "code",
        "colab": {
          "base_uri": "https://localhost:8080/",
          "height": 34
        },
        "outputId": "a71b1def-b9aa-478f-f7fd-dc6f085006d0"
      },
      "source": [
        "# Load Google Drive helper\n",
        "from google.colab import drive\n",
        "# This will prompt for authorization\n",
        "drive.mount(\"/content/drive\")"
      ],
      "execution_count": null,
      "outputs": [
        {
          "output_type": "stream",
          "text": [
            "Drive already mounted at /content/drive; to attempt to forcibly remount, call drive.mount(\"/content/drive\", force_remount=True).\n"
          ],
          "name": "stdout"
        }
      ]
    },
    {
      "cell_type": "code",
      "metadata": {
        "id": "9eUUKBbGg_9d",
        "colab_type": "code",
        "colab": {}
      },
      "source": [
        "# create list to save extracted data\n",
        "transaction_record = []\n",
        "for filename in glob.glob(os.path.join(path_gdrive, '*.pdf')):\n",
        "   with open(filename, 'rb') as fin: # open in readonly mode\n",
        "      # read and extract pdf infos\n",
        "      pdf_reader = PyPDF2.PdfFileReader(fin)\n",
        "      # extract first page\n",
        "      extr_page = pdf_reader.getPage(0)\n",
        "      text = extr_page.extractText()\n",
        "      # check if current pdf file is a \"WERTPAPIERGESCHÄFTWERTPAPIERORDER\"\n",
        "      transaction_pdf = \"WERTPAPIERGESCHÄFTWERTPAPIERORDER\"\n",
        "      duplicate_file = \").pdf\"\n",
        "\n",
        "      if duplicate_file in filename: # try to find pdf duplicates - eg. \"filename (1).pdf\" instead of \"filename.pdf\"\n",
        "          #print(\"Processing PDF | DUPLICATE   | \\\"Wertpapiergeschäftsorder\\\" |  \" + filename)\n",
        "          continue\n",
        "      elif transaction_pdf in text:  ## all non duplicate,\"Wertpapergeschäftsorder\"\n",
        "          #print(\"Processing PDF | RELEVANT    | \\\"Wertpapiergeschäftsorder\\\" |  \" + filename)\n",
        "          pass\n",
        "      else: # non duplicate, irelevant files\n",
        "          #print(\"Processing PDF | IRELEVANT   |                            |  \" + filename)\n",
        "          continue\n",
        "\n",
        "      # split document for easier processing\n",
        "      full_text = preprocess_letter(text)\n",
        "      text = full_text[1]\n",
        "      header = full_text[0]\n",
        "\n",
        "      # get order information\n",
        "      transaction_type, order_count, total_value = extract_order(text)\n",
        "      price = calculate_stock_price(order_count, total_value)\n",
        "      order_value_with_sign = add_sign_to_order_value(transaction_type, total_value)\n",
        "\n",
        "      # set data structure\n",
        "      current_transaction = {\n",
        "      \"Datum\" : extract_transaction_date(header),\n",
        "      \"ISIN\" : extract_isin(text),\n",
        "      \"Typ\": transaction_type,\n",
        "      \"Art\": investing_transaction_type(transaction_type),\n",
        "      \"Wert\" : order_value_with_sign,\n",
        "      \"Buchungswährung\" : \"EUR\",\n",
        "      \"Steuern\" : \"\",\n",
        "      \"Stück\" : order_count,\n",
        "      \"Werpapiername\" : extract_name(text),\n",
        "      \"Notiz\" : extract_order_id(header),\n",
        "      \"Gebühren\" : extract_order_costs(text),\n",
        "      \"WKN\" : \"\",\n",
        "      \"Ticker-Symbol\": get_ticker(extract_isin(text)),\n",
        "      \"Kaufkurs\" : price\n",
        "      }\n",
        "\n",
        "      transaction_record.append(current_transaction)\n",
        "\n",
        "# https://stackoverflow.com/questions/72899/how-do-i-sort-a-list-of-dictionaries-by-a-value-of-the-dictionary\n",
        "record = sorted(transaction_record, key=lambda k: convert_str_to_date(k[\"Datum\"])) \n",
        "record"
      ],
      "execution_count": null,
      "outputs": []
    },
    {
      "cell_type": "markdown",
      "metadata": {
        "id": "PYcq8konfYTI",
        "colab_type": "text"
      },
      "source": [
        "## b) create structure for Portfolio Performance"
      ]
    },
    {
      "cell_type": "code",
      "metadata": {
        "id": "E5BiKk2bFwzZ",
        "colab_type": "code",
        "colab": {}
      },
      "source": [
        "# prepare transaction record for spreadsheet\n",
        "data = []\n",
        "# portfolio_performance scheme for .csv import\n",
        "pp_table_labels = [\"Datum\", \"Typ\", \"Art\" , \"Wert\", \"Kaufkurs\", \"Stück\", \"Wertpapiername\", \"ISIN\", \"WKN\", \"Ticker-Symbol\", \"Gebühren\", \"Steuern\", \"Buchungswährung\", \"Notiz\"]\n",
        "\n",
        "for transaction in range(len(record)):\n",
        "  data.append([\n",
        "                        record[transaction][\"Datum\"],\n",
        "                        record[transaction][\"Typ\"],\n",
        "                        record[transaction][\"Art\"],\n",
        "                        record[transaction][\"Wert\"],\n",
        "                        record[transaction][\"Kaufkurs\"],\n",
        "                        record[transaction][\"Stück\"],\n",
        "                        record[transaction][\"Werpapiername\"],\n",
        "                        record[transaction][\"ISIN\"],\n",
        "                        record[transaction][\"WKN\"],\n",
        "                        record[transaction][\"Ticker-Symbol\"],\n",
        "                        record[transaction][\"Gebühren\"],\n",
        "                        record[transaction][\"Steuern\"],\n",
        "                        record[transaction][\"Buchungswährung\"],\n",
        "                        record[transaction][\"Notiz\"]\n",
        "                        ])\n",
        "data"
      ],
      "execution_count": null,
      "outputs": []
    },
    {
      "cell_type": "markdown",
      "metadata": {
        "id": "uwe-wXrEeyb_",
        "colab_type": "text"
      },
      "source": [
        "# Update Master & Delta Sheet"
      ]
    },
    {
      "cell_type": "code",
      "metadata": {
        "id": "M2DCF_koaeGf",
        "colab_type": "code",
        "cellView": "code",
        "colab": {}
      },
      "source": [
        "#@title\n",
        "!pip install --upgrade --quiet gspread"
      ],
      "execution_count": null,
      "outputs": []
    },
    {
      "cell_type": "code",
      "metadata": {
        "id": "l_AeRhxbcMv3",
        "colab_type": "code",
        "cellView": "code",
        "colab": {}
      },
      "source": [
        "#@title\n",
        "from google.colab import auth\n",
        "auth.authenticate_user()\n",
        "\n",
        "import gspread\n",
        "from oauth2client.client import GoogleCredentials\n",
        "\n",
        "gc = gspread.authorize(GoogleCredentials.get_application_default())"
      ],
      "execution_count": null,
      "outputs": []
    },
    {
      "cell_type": "code",
      "metadata": {
        "id": "RFI67Nos-3pC",
        "colab_type": "code",
        "cellView": "code",
        "colab": {}
      },
      "source": [
        "#@title\n",
        "# Delta Sheet\n",
        "  # creates/updates a list of new transactions \n",
        "  # will be called in update_master_sheets\n",
        "def update_delta_sheet(data_row, labels):\n",
        "  today = get_date_today ()\n",
        "\n",
        "  ## open or create delta sheet\n",
        "  try: # Check if Spreadsheet already exists\n",
        "    spreadsheet_delta = gc.open(\"TradeRepublic_Delta_\" + today) # open existing sheet\n",
        "    worksheet_delta = spreadsheet_delta.sheet1\n",
        "    print(\"   Delta | Open\")\n",
        "  except:\n",
        "    spreadsheet_delta = gc.create(\"TradeRepublic_Delta_\" + today) # create new sheet\n",
        "    worksheet_delta = spreadsheet_delta.sheet1\n",
        "    print(\"   Delta | Create\")\n",
        "    \n",
        "  if worksheet_delta.acell(\"A1\").value == \"\": # add labeling if missing\n",
        "    worksheet_delta.update(\"A1\", [labels])\n",
        "\n",
        "  # don't overwrite existing entries, but check for the first free row before inserting current item\n",
        "  count = 0\n",
        "  while True:\n",
        "    count += 1\n",
        "    if worksheet_delta.acell(\"A\" + str(count)).value == \"\":\n",
        "      worksheet_delta.update(\"A\" + str(count), [data_row])\n",
        "      print(\"   Delta | Entry added to delta\")      \n",
        "      break"
      ],
      "execution_count": null,
      "outputs": []
    },
    {
      "cell_type": "code",
      "metadata": {
        "id": "m-qZycs0Ajj2",
        "colab_type": "code",
        "colab": {}
      },
      "source": [
        "# Master Sheet\n",
        "  # creates/updates full record sheet \n",
        "  # calls delta sheet to note down new entries\n",
        "def update_master_sheet(worksheet_data, labels):\n",
        "  try: # Check if Spreadsheet already exists\n",
        "    spreadsheet = gc.open(\"TradeRepublic_Master\") # open existing sheet\n",
        "    print(\"Master | Open sheet\\n\")\n",
        "  except:\n",
        "    spreadsheet = gc.create(\"TradeRepublic_Master\") # create new sheet\n",
        "    print(\"Master | Create sheet\\n\")\n",
        "  worksheet_master = spreadsheet.sheet1 # get worksheet for document\n",
        "  worksheet_master.update(\"A1\", [labels]) # add table label to document\n",
        "\n",
        "  last_column = len(worksheet_data[0]) # check for last column (\"Notiz\")\n",
        "\n",
        "  # Update information by order id\n",
        "  for row in range(len(worksheet_data)): \n",
        "    current_data_item = worksheet_data[row][last_column-1] # data from extraction; \"last coulmn\" is the index column for \"Notiz\". In Notiz there is the TradeRepublic Order Id\n",
        "    current_sheet_row = worksheet_master.acell(\"K\" + str(row+2)).value # equivalent data in sheets\n",
        "\n",
        "    if current_sheet_row == current_data_item:   # update only new entries (defined by order_id & row in sheet)\n",
        "      print(\"Master | Entry exists already\")\n",
        "    else:\n",
        "      print(\"Master | Entry added to master\")\n",
        "      worksheet_master.update(\"A\" + str(row+2), [worksheet_data[row]]) # update sheet row by row\n",
        "      update_delta_sheet(worksheet_data[row], labels)"
      ],
      "execution_count": null,
      "outputs": []
    },
    {
      "cell_type": "code",
      "metadata": {
        "id": "SeoRxFC1-4ID",
        "colab_type": "code",
        "colab": {}
      },
      "source": [
        "# Execute sheet update\n",
        "update_master_sheet(data, pp_table_labels)"
      ],
      "execution_count": null,
      "outputs": []
    },
    {
      "cell_type": "markdown",
      "metadata": {
        "id": "WliwlZL_HYbH",
        "colab_type": "text"
      },
      "source": [
        "# Examples for extracted values"
      ]
    },
    {
      "cell_type": "code",
      "metadata": {
        "id": "D-97PEHOh9Yb",
        "colab_type": "code",
        "colab": {}
      },
      "source": [
        "# extract ISNIN\n",
        "ISIN = extract_isin(text)\n",
        "ISIN"
      ],
      "execution_count": null,
      "outputs": []
    },
    {
      "cell_type": "code",
      "metadata": {
        "id": "xlbjtC7eyUo7",
        "colab_type": "code",
        "colab": {}
      },
      "source": [
        "# date of transaction\n",
        "date = extract_transaction_date(header)\n",
        "date"
      ],
      "execution_count": null,
      "outputs": []
    },
    {
      "cell_type": "code",
      "metadata": {
        "id": "cSubgL4gZUkK",
        "colab_type": "code",
        "colab": {}
      },
      "source": [
        "# FIXME: \n",
        "# name of position\n",
        "# name = extract_name(text)\n",
        "# name"
      ],
      "execution_count": null,
      "outputs": []
    },
    {
      "cell_type": "code",
      "metadata": {
        "id": "Ag8Bjki8EYWu",
        "colab_type": "code",
        "colab": {}
      },
      "source": [
        "# FIXME: \n",
        "# transaction type & order volume\n",
        "# transaction_type, order_count, total_value = extract_order(text)\n",
        "# transaction_type"
      ],
      "execution_count": null,
      "outputs": []
    },
    {
      "cell_type": "code",
      "metadata": {
        "id": "uPSZX5fQFt9E",
        "colab_type": "code",
        "colab": {}
      },
      "source": [
        ""
      ],
      "execution_count": null,
      "outputs": []
    },
    {
      "cell_type": "code",
      "metadata": {
        "id": "9yGgKLKl-DWF",
        "colab_type": "code",
        "colab": {}
      },
      "source": [
        "# FIXME: \n",
        "#  costs = extract_order_costs(text)\n",
        "#  costs"
      ],
      "execution_count": null,
      "outputs": []
    },
    {
      "cell_type": "code",
      "metadata": {
        "id": "GKIAKAbp-3Ml",
        "colab_type": "code",
        "colab": {}
      },
      "source": [
        "# TODO: needs to be fixed\n",
        "# stock_value = calculate_stock_value(text)\n",
        "# stock_value"
      ],
      "execution_count": null,
      "outputs": []
    },
    {
      "cell_type": "code",
      "metadata": {
        "id": "0RFaDY0oEuz1",
        "colab_type": "code",
        "colab": {}
      },
      "source": [
        "# TODO: needs to be fixed\n",
        "# # add sign in total number for buy/sell actions\n",
        "# order_value = add_sign_to_order_value(text)\n",
        "# order_value"
      ],
      "execution_count": null,
      "outputs": []
    },
    {
      "cell_type": "code",
      "metadata": {
        "id": "2eFzGB8eV4oT",
        "colab_type": "code",
        "colab": {}
      },
      "source": [
        "# # Range of extraced fields\n",
        "# print(\"Date : \" + date)\n",
        "# print(\"Werpapiername : \" + name)\n",
        "# print(\"ISIN : \" + ISIN)\n",
        "# print(\"Transaction Type : \" + transaction_type)\n",
        "# print(\"Order Count : \" + order_count)\n",
        "# #print(\"Stock Value : \" + stock_value)\n",
        "# print(\"Total Value : \" + total_value)\n",
        "# print(\"Transaction Costs : \" + costs)\n",
        "# print(\"Total Value with Sign: \" + order_value)"
      ],
      "execution_count": null,
      "outputs": []
    }
  ]
}