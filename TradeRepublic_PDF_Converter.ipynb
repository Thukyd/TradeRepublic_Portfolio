{
  "nbformat": 4,
  "nbformat_minor": 0,
  "metadata": {
    "colab": {
      "name": "TradeRepublic_PDF_Converter.ipynb",
      "provenance": [],
      "collapsed_sections": [],
      "authorship_tag": "ABX9TyM/WjsOikmIANm//vAwmx8g",
      "include_colab_link": true
    },
    "kernelspec": {
      "name": "python3",
      "display_name": "Python 3"
    }
  },
  "cells": [
    {
      "cell_type": "markdown",
      "metadata": {
        "id": "view-in-github",
        "colab_type": "text"
      },
      "source": [
        "<a href=\"https://colab.research.google.com/github/Thukyd/TradeRepublic_Transactions_Sheet/blob/master/TradeRepublic_PDF_Converter.ipynb\" target=\"_parent\"><img src=\"https://colab.research.google.com/assets/colab-badge.svg\" alt=\"Open In Colab\"/></a>"
      ]
    },
    {
      "cell_type": "markdown",
      "metadata": {
        "id": "XooSrEXI9Vii",
        "colab_type": "text"
      },
      "source": [
        "#   0.1 | TradeRepublic - PDF Converter for Portfolio Performance\n",
        "# a) Description\n",
        "This tool should help to keep the overview of the transactions within TradeRepublic. In TR there is the possibility to export all orders as PDF. For testing purposes the import and export is currently only possible with G-Drive. Alternatives are on the todo list. \n",
        "\n",
        "## Output A: Master Sheet\n",
        "The master sheet lists all previous transactions from the PDFs. \n",
        "\n",
        "## Output B: Delta Sheet (dated)\n",
        "The delta sheet contains all new transactions that have been added since the script was last executed. These are intended to be imported into Portfolio Performance. \n",
        "\n",
        "# b) Setup\n",
        "*   Optimized for Google Colab (https://colab.research.google.com/)\n",
        "*   TradeRepublic statements will be imported via GoogleDrive. All PDF files shoule be in a single folder. You need to configure the path to your G-Drive before usage (see: gdrive_path) \n",
        "*   Export .csv optimized for \"Portfolio Performance\" (https://www.portfolio-performance.info/)\n",
        "\n",
        "# c) Options to customize\n",
        "- for different data sources, see: https://colab.research.google.com/notebooks/io.ipynb\n",
        "- in order to create different data structures, take a look at \"Examples for extracted fields\". \n",
        "\n",
        "# d) Further Information\n",
        "## Handling of costs statements\n",
        "*   \"Kosten des Wertpapierkaufs/verkaufs\" are be considered.\n",
        "*   \"Kosten während der Haltedauer (pro Jahr)\" are not extracted and therefore do not appear the sheets. \n",
        "\n",
        "## Deposits & Withdrawls\n",
        "* Deposits and withdrawals to the depot are not recorded in PDF format. Therefore they are not taken into account and must be entered by hand if necessary.\n",
        "\n",
        "## \"Order\" ID PDF documents\n",
        "* Each TradeRepublic document has got a \"order\" number. This is extracted and stored in the field \"Notiz\". It serves to prevent duplicate entries.  \n",
        "\n",
        "# e) Todos\n",
        "## Done\n",
        "* Extract G-Drive folder of TradeRepublic PDFs\n",
        "* Create data structure (for Portfolio Performance or other purposes)\n",
        "* Generate master sheet of all transactions\n",
        "* Generate delta sheet for new transactions (basis for Trade Republic Import)\n",
        "\n",
        "## Open\n",
        "* Create sheets for portfolio performance in .csv format\n",
        "* Offer alternatives to G-Drive import/export\n",
        "\n",
        "## To be fixed\n",
        "- calculate_stock_value() => conversion of german/international number system"
      ]
    },
    {
      "cell_type": "code",
      "metadata": {
        "id": "MtKU_ZXzVvpQ",
        "colab_type": "code",
        "colab": {}
      },
      "source": [
        "######################################\n",
        "########    Define before Usage\n",
        "######################################\n",
        "# load all pdfs in folder\n",
        "gdrive_path = \"/content/drive/My Drive/your_document_foder/\""
      ],
      "execution_count": null,
      "outputs": []
    },
    {
      "cell_type": "code",
      "metadata": {
        "id": "-sYXaNn_ZPAO",
        "colab_type": "code",
        "colab": {
          "base_uri": "https://localhost:8080/",
          "height": 33
        },
        "outputId": "8e50dd28-f860-412c-a8a6-cd2a43d191a6"
      },
      "source": [
        "# PyPDF2 for PDF extraction\n",
        "!pip install PyPDF2\n",
        "import PyPDF2\n",
        "# Regex for text processing\n",
        "import re\n",
        "# requirement for pdf-folder extraction\n",
        "import glob\n",
        "import os\n",
        "# requirement for get_date_today()\n",
        "from datetime import date"
      ],
      "execution_count": null,
      "outputs": [
        {
          "output_type": "stream",
          "text": [
            "Requirement already satisfied: PyPDF2 in /usr/local/lib/python3.6/dist-packages (1.26.0)\n"
          ],
          "name": "stdout"
        }
      ]
    },
    {
      "cell_type": "markdown",
      "metadata": {
        "id": "V5qKsXskMbAS",
        "colab_type": "text"
      },
      "source": [
        "# Extraction & helper functions"
      ]
    },
    {
      "cell_type": "code",
      "metadata": {
        "id": "ImLd5JT9kdbP",
        "colab_type": "code",
        "colab": {}
      },
      "source": [
        "def get_date_today ():\n",
        "  today = date.today()\n",
        "  return today.strftime(\"%Y-%m-%d\")"
      ],
      "execution_count": null,
      "outputs": []
    },
    {
      "cell_type": "code",
      "metadata": {
        "id": "oAQ8TeRxMSx3",
        "colab_type": "code",
        "colab": {}
      },
      "source": [
        "def preprocess_letter (full_extraction):\n",
        "  # preporcesss text\n",
        "  header = \"WERTPAPIERGESCHÄFTWERTPAPIERORDER\"\n",
        "  header, core = full_extraction.split(header)\n",
        "  return header, core"
      ],
      "execution_count": null,
      "outputs": []
    },
    {
      "cell_type": "code",
      "metadata": {
        "id": "eewBt6FFVBYr",
        "colab_type": "code",
        "colab": {}
      },
      "source": [
        "def extract_transaction_date (raw_text):\n",
        "  pattern = \"DATUM\\d{2}.\\d{2}.\\d{4}\"\n",
        "  transaction_date = re.findall(pattern, raw_text)\n",
        "  date = re.split(\"DATUM\", transaction_date[0])\n",
        "  return date[1]"
      ],
      "execution_count": null,
      "outputs": []
    },
    {
      "cell_type": "code",
      "metadata": {
        "id": "yJHiybD1ZcDf",
        "colab_type": "code",
        "colab": {}
      },
      "source": [
        "def extract_order_id (raw_text):\n",
        "  pattern = \"(?<=ORDER)(.*?)(?=DEPOT)\"\n",
        "  id = re.findall(pattern, raw_text)\n",
        "  return id[0]"
      ],
      "execution_count": null,
      "outputs": []
    },
    {
      "cell_type": "code",
      "metadata": {
        "id": "NVa8IpcGNj4s",
        "colab_type": "code",
        "colab": {}
      },
      "source": [
        "def extract_isin(raw_text):\n",
        "  # Search for ISIN of Stock\n",
        "  isin_pattern = \"(?<=ISIN: )(BE|BM|FR|BG|VE|DK|HR|DE|JP|HU|HK|JO|BR|XS|FI|GR|IS|RU|LB|PT|NO|TW|UA|TR|LK|LV|LU|TH|NL|PK|PH|RO|EG|PL|AA|CH|CN|CL|EE|CA|IR|IT|ZA|CZ|CY|AR|AU|AT|IN|CS|CR|IE|ID|ES|PE|TN|PA|SG|IL|US|MX|SK|KR|SI|KW|MY|MO|SE|GB|GG|KY|JE|VG|NG|SA|MU)([0-9A-Z]{9})([0-9])\"\n",
        "  matches = re.findall(isin_pattern, text)\n",
        "  item = \"\".join(matches[0])\n",
        "  return item"
      ],
      "execution_count": null,
      "outputs": []
    },
    {
      "cell_type": "code",
      "metadata": {
        "id": "TUKkeEffNLF4",
        "colab_type": "code",
        "colab": {}
      },
      "source": [
        "def extract_name(raw_text):\n",
        "  pattern = \"(?<=ANZAHLWERTAUSFÜHRUNGSPLATZ)(.*?)(?=ISIN)\"\n",
        "  name = re.findall(pattern, raw_text)\n",
        "  return name[0]"
      ],
      "execution_count": null,
      "outputs": []
    },
    {
      "cell_type": "code",
      "metadata": {
        "id": "p7mGV3qvP4du",
        "colab_type": "code",
        "colab": {}
      },
      "source": [
        "def extract_order(raw_text):\n",
        "  ISIN = extract_isin(raw_text)\n",
        "  pattern = \"(?<=\"+ ISIN +\")(.*?)(?=Lang und Schwarz Exchange)\"\n",
        "  order = re.findall(pattern, raw_text)\n",
        "  matched = ''.join(order)\n",
        "  matched = matched.split(\" \")\n",
        "  transaction_type = matched[0]\n",
        "  order_count, total_value = matched[2].split(\"Stk.\") \n",
        "  return [transaction_type, order_count, total_value]"
      ],
      "execution_count": null,
      "outputs": []
    },
    {
      "cell_type": "code",
      "metadata": {
        "id": "naqEqeJGQDdH",
        "colab_type": "code",
        "colab": {}
      },
      "source": [
        "# does not include running costs\n",
        "# takes first appearence of costs in the pdf\n",
        "  # buy operations => consists of buying costs, running costs & selling costs | only buying costs considered\n",
        "  # sell operation => consits of selling costs | selling costs considered\n",
        "def extract_order_costs(raw_text):\n",
        "  transaction_type = extract_order(raw_text)[0]\n",
        "  pattern = \"(?<=SUMME)(.*?)(?= )\"\n",
        "  costs = re.findall(pattern, raw_text)\n",
        "  return costs[0]"
      ],
      "execution_count": null,
      "outputs": []
    },
    {
      "cell_type": "code",
      "metadata": {
        "id": "vUfPNNzSBISJ",
        "colab_type": "code",
        "colab": {}
      },
      "source": [
        "# TODO: does not work with numbers as \"1.312,23\"\n",
        "\n",
        "# import locale\n",
        "# def calculate_stock_value(raw_text):\n",
        "#   t_type, count, value = extract_order(raw_text) # extract how many stocks & for which value - transaction type not needed\n",
        "#   count = int(count)\n",
        "#   value\n",
        "#   value = float(value.replace(\",\",\".\")) # replace \",\" for float conversion\n",
        "#   single_value = float(value) / float(count)\n",
        "#   single_value = str(single_value).replace(\".\",\",\") # use german \",\" system again\n",
        "#   return single_value"
      ],
      "execution_count": null,
      "outputs": []
    },
    {
      "cell_type": "code",
      "metadata": {
        "id": "XMEW8XtkIU-a",
        "colab_type": "code",
        "colab": {}
      },
      "source": [
        "# In TradeRepublic statements all total values for buy & sell are in positive numbers.\n",
        "# For the conversion to Portfolio Performance (PP) this value has got to take the type of transaction in account.\n",
        "# It needs to have a sign. Negative numbers for \"buy\" and positive numbers for \"sell\".\n",
        "def add_sign_to_order_value(raw_text):\n",
        "  transaction_type, count, total_value = extract_order(raw_text) # count not needed\n",
        "  if transaction_type == \"Kauf\":\n",
        "    return \"-\" + total_value\n",
        "  else: \n",
        "    return total_value"
      ],
      "execution_count": null,
      "outputs": []
    },
    {
      "cell_type": "markdown",
      "metadata": {
        "id": "yWGcKERWMq7s",
        "colab_type": "text"
      },
      "source": [
        "# Get data from Google Drive\n",
        "\n",
        "- for different data sources, see: https://colab.research.google.com/notebooks/io.ipynb\n",
        "\n"
      ]
    },
    {
      "cell_type": "code",
      "metadata": {
        "id": "di6FMWSjaVMS",
        "colab_type": "code",
        "colab": {
          "base_uri": "https://localhost:8080/",
          "height": 33
        },
        "outputId": "2337ddde-63d3-4303-e57c-4652a78a8feb"
      },
      "source": [
        "# Load Google Drive helper\n",
        "from google.colab import drive\n",
        "# This will prompt for authorization\n",
        "drive.mount(\"/content/drive\")"
      ],
      "execution_count": null,
      "outputs": [
        {
          "output_type": "stream",
          "text": [
            "Drive already mounted at /content/drive; to attempt to forcibly remount, call drive.mount(\"/content/drive\", force_remount=True).\n"
          ],
          "name": "stdout"
        }
      ]
    },
    {
      "cell_type": "markdown",
      "metadata": {
        "id": "pzxZxc_bFhFw",
        "colab_type": "text"
      },
      "source": [
        "# Create Data Structure\n",
        "- optimized for Portfolio Performance"
      ]
    },
    {
      "cell_type": "code",
      "metadata": {
        "id": "9eUUKBbGg_9d",
        "colab_type": "code",
        "colab": {
          "base_uri": "https://localhost:8080/",
          "height": 1000
        },
        "outputId": "7063ff12-623b-47ea-f448-ffdb599d1eae"
      },
      "source": [
        "# create list to save extracted data\n",
        "transaction_record = []\n",
        "\n",
        "for filename in glob.glob(os.path.join(gdrive_path, '*.pdf')):\n",
        "   with open(filename, 'rb') as fin: # open in readonly mode\n",
        "      # read and extract pdf infos\n",
        "      pdf_reader = PyPDF2.PdfFileReader(fin)\n",
        "      # extract first page\n",
        "      extr_page = pdf_reader.getPage(0)\n",
        "      text = extr_page.extractText()\n",
        "      # check if current pdf file is a \"WERTPAPIERGESCHÄFTWERTPAPIERORDER\"\n",
        "      transaction_pdf = \"WERTPAPIERGESCHÄFTWERTPAPIERORDER\"\n",
        "      duplicate_file = \").pdf\"\n",
        "\n",
        "      if duplicate_file in filename: # try to find pdf duplicates - eg. \"filename (1).pdf\" instead of \"filename.pdf\"\n",
        "          #print(\"Processing PDF | DUPLICATE   | \\\"Wertpapiergeschäftsorder\\\" |  \" + filename)\n",
        "          continue\n",
        "      elif transaction_pdf in text:  ## all non duplicate,\"Wertpapergeschäftsorder\"\n",
        "          #print(\"Processing PDF | RELEVANT    | \\\"Wertpapiergeschäftsorder\\\" |  \" + filename)\n",
        "          pass\n",
        "      else: # non duplicate, irelevant files\n",
        "          #print(\"Processing PDF | IRELEVANT   |                            |  \" + filename)\n",
        "          continue\n",
        "\n",
        "      # split document for easier processing\n",
        "      full_text = preprocess_letter(text)\n",
        "      text = full_text[1]\n",
        "      header = full_text[0]\n",
        "\n",
        "      # set data structure\n",
        "      current_transaction = {\n",
        "      \"Datum\" : extract_transaction_date(header),\n",
        "      \"ISIN\" : extract_isin(text),\n",
        "      \"Typ\": extract_order(text)[0],\n",
        "      \"Wert\" : add_sign_to_order_value(text),\n",
        "      \"Buchungswährung\" : \"EUR\",\n",
        "      \"Steuern\" : \"\",\n",
        "      \"Stück\" : extract_order(text)[1],\n",
        "      \"Steuern\" : \"\",\n",
        "      \"Steuern\" : \"\",\n",
        "      \"Werpapiername\" : extract_name(text),\n",
        "      \"Notiz\" : extract_order_id(header),\n",
        "      \"Gebühren\" : extract_order_costs(text),\n",
        "      \"WKN\" : \"\",\n",
        "      \"Ticker-Symbol\": \"\"\n",
        "      }\n",
        "\n",
        "      transaction_record.append(current_transaction)\n",
        "\n",
        "transaction_record"
      ],
      "execution_count": null,
      "outputs": [
        {
          "output_type": "execute_result",
          "data": {
            "text/plain": [
            ]
          },
          "metadata": {
            "tags": []
          },
          "execution_count": 14
        }
      ]
    },
    {
      "cell_type": "markdown",
      "metadata": {
        "id": "CXSFB-Tgb_nD",
        "colab_type": "text"
      },
      "source": [
        "# Google Sheets Export\n"
      ]
    },
    {
      "cell_type": "code",
      "metadata": {
        "id": "M2DCF_koaeGf",
        "colab_type": "code",
        "colab": {}
      },
      "source": [
        "!pip install --upgrade --quiet gspread"
      ],
      "execution_count": null,
      "outputs": []
    },
    {
      "cell_type": "code",
      "metadata": {
        "id": "l_AeRhxbcMv3",
        "colab_type": "code",
        "colab": {}
      },
      "source": [
        "from google.colab import auth\n",
        "auth.authenticate_user()\n",
        "\n",
        "import gspread\n",
        "from oauth2client.client import GoogleCredentials\n",
        "\n",
        "gc = gspread.authorize(GoogleCredentials.get_application_default())"
      ],
      "execution_count": null,
      "outputs": []
    },
    {
      "cell_type": "code",
      "metadata": {
        "id": "E5BiKk2bFwzZ",
        "colab_type": "code",
        "colab": {
          "base_uri": "https://localhost:8080/",
          "height": 1000
        },
        "outputId": "3bdacee8-2a5d-4663-c7f4-9bd830446906"
      },
      "source": [
        "# prepare transaction record for spreadsheet\n",
        "worksheet_data = [[\"Datum\", \"Typ\", \"Wert\", \"Buchungswährung\", \"Steuern\", \"Stück\", \"ISIN\", \"WKN\", \"Ticker-Symbol\", \"Wertpapiername\", \"Notiz\"]]\n",
        "\n",
        "for transaction in range(len(transaction_record)):\n",
        "  worksheet_data.append([\n",
        "                        transaction_record[transaction][\"Datum\"],\n",
        "                        transaction_record[transaction][\"Typ\"],\n",
        "                        transaction_record[transaction][\"Wert\"],\n",
        "                        transaction_record[transaction][\"Buchungswährung\"],\n",
        "                        transaction_record[transaction][\"Steuern\"],\n",
        "                        transaction_record[transaction][\"Stück\"],\n",
        "                        transaction_record[transaction][\"ISIN\"],\n",
        "                        transaction_record[transaction][\"WKN\"],\n",
        "                        transaction_record[transaction][\"Ticker-Symbol\"],\n",
        "                        transaction_record[transaction][\"Werpapiername\"],\n",
        "                        transaction_record[transaction][\"Notiz\"]\n",
        "                        ])\n",
        "worksheet_data"
      ],
      "execution_count": null,
      "outputs": [
        {
          "output_type": "execute_result",
          "data": {
            "text/plain": [
              " ['08.07.1921',\n",
              "  'Kauf',\n",
              "  '-1.314,00',\n",
              "  'EUR',\n",
              "  '',\n",
              "  '6',\n",
              "  'US342354543',\n",
              "  '',\n",
              "  '',\n",
              "  'McBurgerChicken',\n",
              "  '8532-d3432']"
            ]
          },
          "metadata": {
            "tags": []
          },
          "execution_count": 17
        }
      ]
    },
    {
      "cell_type": "code",
      "metadata": {
        "id": "m-qZycs0Ajj2",
        "colab_type": "code",
        "colab": {
          "base_uri": "https://localhost:8080/",
          "height": 235
        },
        "outputId": "207bcc2c-09fb-4d19-fd46-3406bb02f37c"
      },
      "source": [
        "######################\n",
        "# Update Mastersheet => worksheet_master\n",
        " \n",
        "try: # Check if Spreadsheet already exists\n",
        "  spreadsheet = gc.open(\"tradeRepublic_Complete\") # open existing sheet\n",
        "except:\n",
        "  spreadsheet = gc.create(\"tradeRepublic_Complete\") # create new sheet\n",
        " \n",
        "worksheet_master = spreadsheet.sheet1 # get worksheet for document \n",
        " \n",
        " \n",
        "# Update information by order id\n",
        "for row in range(len(worksheet_data)): \n",
        "  current_data_item = worksheet_data[row][10] # data from extraction; \"10\" is the index row for \"Notiz\". In Notiz there is the TradeRepublic Order Id\n",
        "  current_sheet_row = worksheet_master.acell(\"K\" + str(row+1)).value # equivalent data in sheets\n",
        " \n",
        "  if current_sheet_row == current_data_item:   # update only new entries (defined by order_id & row in sheet)\n",
        "    print(\"Entry exists already\")\n",
        "  else:\n",
        "    print(\"Added new entry to sheet\")\n",
        "    worksheet_master.update(\"A\" + str(row+1), [worksheet_data[row]]) # update sheet row by row\n",
        " \n",
        "#######################\n",
        "# Update Delta Sheet => \"worksheet_delta\"\n",
        "    today = get_date_today () \n",
        " \n",
        "    try: # Check if Spreadsheet already exists\n",
        "      spreadsheet_delta = gc.open(\"tradeRepublic_\" + today) # open existing sheet\n",
        "    except:\n",
        "      spreadsheet_delta = gc.create(\"tradeRepublic_\" + today) # create new sheet\n",
        "    worksheet_delta = spreadsheet_delta.sheet1\n",
        " \n",
        "    # don't overwrite existing entries, but check for the first free row before inserting current item\n",
        "    count = 0\n",
        "    while True:\n",
        "      count += 1\n",
        "      if worksheet_delta.acell(\"A\" + str(count)).value == \"\":\n",
        "        worksheet_delta.update(\"A\" + str(count), [worksheet_data[row]])      \n",
        "        break"
      ],
      "execution_count": null,
      "outputs": [
        {
          "output_type": "stream",
          "text": [
            "Entry exists already\n",
            "Entry exists already\n",
            "Entry exists already\n",
            "Entry exists already\n",
            "Entry exists already\n",
            "Entry exists already\n",
            "Added new entry to sheet\n",
            "Added new entry to sheet\n",
            "Added new entry to sheet\n",
            "Added new entry to sheet\n",
            "Entry exists already\n",
            "Entry exists already\n",
            "Entry exists already\n"
          ],
          "name": "stdout"
        }
      ]
    },
    {
      "cell_type": "markdown",
      "metadata": {
        "id": "WliwlZL_HYbH",
        "colab_type": "text"
      },
      "source": [
        "# Examples for extracted values"
      ]
    },
    {
      "cell_type": "code",
      "metadata": {
        "id": "D-97PEHOh9Yb",
        "colab_type": "code",
        "colab": {
          "base_uri": "https://localhost:8080/",
          "height": 35
        },
        "outputId": "9ce5042d-e9a6-499e-d2ef-034ce7e7cafb"
      },
      "source": [
        "# extract ISNIN\n",
        "ISIN = extract_isin(text)\n",
        "ISIN"
      ],
      "execution_count": null,
      "outputs": [
        {
          "output_type": "execute_result",
          "data": {
            "application/vnd.google.colaboratory.intrinsic": {
              "type": "string"
            },
            "text/plain": [
              "'US01609sdf027'"
            ]
          },
          "metadata": {
            "tags": []
          },
          "execution_count": 19
        }
      ]
    },
    {
      "cell_type": "code",
      "metadata": {
        "id": "xlbjtC7eyUo7",
        "colab_type": "code",
        "colab": {
          "base_uri": "https://localhost:8080/",
          "height": 35
        },
        "outputId": "41d97786-0df6-43a2-b92e-196812c46435"
      },
      "source": [
        "# date of transaction\n",
        "date = extract_transaction_date(header)\n",
        "date"
      ],
      "execution_count": null,
      "outputs": [
        {
          "output_type": "execute_result",
          "data": {
            "application/vnd.google.colaboratory.intrinsic": {
              "type": "string"
            },
            "text/plain": [
              "'08.07.2010'"
            ]
          },
          "metadata": {
            "tags": []
          },
          "execution_count": 20
        }
      ]
    },
    {
      "cell_type": "code",
      "metadata": {
        "id": "cSubgL4gZUkK",
        "colab_type": "code",
        "colab": {
          "base_uri": "https://localhost:8080/",
          "height": 35
        },
        "outputId": "dbe55a71-889b-41de-ac64-3ffaa154392a"
      },
      "source": [
        "# name of position\n",
        "name = extract_name(text)\n",
        "name"
      ],
      "execution_count": null,
      "outputs": [
        {
          "output_type": "execute_result",
          "data": {
            "application/vnd.google.colaboratory.intrinsic": {
              "type": "string"
            },
            "text/plain": [
              "'Alibaba'"
            ]
          },
          "metadata": {
            "tags": []
          },
          "execution_count": 21
        }
      ]
    },
    {
      "cell_type": "code",
      "metadata": {
        "id": "Ag8Bjki8EYWu",
        "colab_type": "code",
        "colab": {
          "base_uri": "https://localhost:8080/",
          "height": 35
        },
        "outputId": "986b14b2-181d-4165-c657-7630bcc3520d"
      },
      "source": [
        "# transaction type & order volume\n",
        "transaction_type, order_count, total_value = extract_order(text)\n",
        "transaction_type"
      ],
      "execution_count": null,
      "outputs": [
        {
          "output_type": "execute_result",
          "data": {
            "application/vnd.google.colaboratory.intrinsic": {
              "type": "string"
            },
            "text/plain": [
              "'Kauf'"
            ]
          },
          "metadata": {
            "tags": []
          },
          "execution_count": 22
        }
      ]
    },
    {
      "cell_type": "code",
      "metadata": {
        "id": "9yGgKLKl-DWF",
        "colab_type": "code",
        "colab": {
          "base_uri": "https://localhost:8080/",
          "height": 35
        },
        "outputId": "c67a5aa3-1b4f-4dee-ba7a-47019fe12b36"
      },
      "source": [
        " costs = extract_order_costs(text)\n",
        " costs"
      ],
      "execution_count": null,
      "outputs": [
        {
          "output_type": "execute_result",
          "data": {
            "application/vnd.google.colaboratory.intrinsic": {
              "type": "string"
            },
            "text/plain": [
              "'1,00'"
            ]
          },
          "metadata": {
            "tags": []
          },
          "execution_count": 23
        }
      ]
    },
    {
      "cell_type": "code",
      "metadata": {
        "id": "GKIAKAbp-3Ml",
        "colab_type": "code",
        "colab": {}
      },
      "source": [
        "# TODO: needs to be fixed\n",
        "# stock_value = calculate_stock_value(text)\n",
        "# stock_value"
      ],
      "execution_count": null,
      "outputs": []
    },
    {
      "cell_type": "code",
      "metadata": {
        "id": "0RFaDY0oEuz1",
        "colab_type": "code",
        "colab": {
          "base_uri": "https://localhost:8080/",
          "height": 35
        },
        "outputId": "cbf6d364-273b-4303-f4a3-2ce4cf503cae"
      },
      "source": [
        "# add sign in total number for buy/sell actions\n",
        "order_value = add_sign_to_order_value(text)\n",
        "order_value"
      ],
      "execution_count": null,
      "outputs": [
        {
          "output_type": "execute_result",
          "data": {
            "application/vnd.google.colaboratory.intrinsic": {
              "type": "string"
            },
            "text/plain": [
              "'-1.314,00'"
            ]
          },
          "metadata": {
            "tags": []
          },
          "execution_count": 25
        }
      ]
    },
    {
      "cell_type": "code",
      "metadata": {
        "id": "2eFzGB8eV4oT",
        "colab_type": "code",
        "colab": {
          "base_uri": "https://localhost:8080/",
          "height": 151
        },
        "outputId": "88a75844-77ba-4406-fe66-ca9089b3d67e"
      },
      "source": [
        "# Range of extraced fields\n",
        "print(\"Date : \" + date)\n",
        "print(\"Werpapiername : \" + name)\n",
        "print(\"ISIN : \" + ISIN)\n",
        "print(\"Transaction Type : \" + transaction_type)\n",
        "print(\"Order Count : \" + order_count)\n",
        "#print(\"Stock Value : \" + stock_value)\n",
        "print(\"Total Value : \" + total_value)\n",
        "print(\"Transaction Costs : \" + costs)\n",
        "print(\"Total Value with Sign: \" + order_value)"
      ],
      "execution_count": null,
      "outputs": [
        {
          "output_type": "stream",
          "text": [
            "Date : 08.07.1920\n",
            "Werpapiername : BurgerEnron\n",
            "ISIN : fsdf\n",
            "Transaction Type : Kauf\n",
            "Order Count : 6\n",
            "Total Value : 1.314,00\n",
            "Transaction Costs : 1,00\n",
            "Total Value with Sign: -1.314,00\n"
          ],
          "name": "stdout"
        }
      ]
    }
  ]
}
